{
 "cells": [
  {
   "cell_type": "code",
   "execution_count": 1,
   "metadata": {},
   "outputs": [],
   "source": [
    "import os\n",
    "import pandas as pd\n",
    "import numpy as np\n",
    "import seaborn as sns\n",
    "import matplotlib.pyplot as plt\n",
    "from sklearn.linear_model import LinearRegression\n",
    "import matplotlib.ticker as mtick"
   ]
  },
  {
   "cell_type": "code",
   "execution_count": 2,
   "metadata": {},
   "outputs": [],
   "source": [
    "base_path = os.path.join(os.getcwd(), '..', 'steam-insights-main')\n",
    "\n",
    "games_df_path = os.path.join(base_path, 'games.csv')\n",
    "genres_path = os.path.join(base_path, 'genres.csv')\n",
    "steamspy_insights_path = os.path.join(base_path, 'steamspy_insights.csv')\n",
    "tags_path = os.path.join(base_path, 'tags.csv')"
   ]
  },
  {
   "cell_type": "code",
   "execution_count": null,
   "metadata": {},
   "outputs": [],
   "source": [
    "# Read games.csv (only app_id and name) and drop rows with missing name\n",
    "games = pd.read_csv(\n",
    "    games_df_path,\n",
    "    usecols=[\"app_id\", \"name\"],\n",
    "    quotechar='\"',\n",
    "    doublequote=True,\n",
    "    escapechar='\\\\',\n",
    "    delimiter=',',\n",
    "    engine='python',\n",
    "    on_bad_lines='skip'\n",
    ")\n",
    "games = games.dropna(subset=['name'])\n",
    "\n"
   ]
  }
 ],
 "metadata": {
  "kernelspec": {
   "display_name": "fds-cw2",
   "language": "python",
   "name": "python3"
  },
  "language_info": {
   "codemirror_mode": {
    "name": "ipython",
    "version": 3
   },
   "file_extension": ".py",
   "mimetype": "text/x-python",
   "name": "python",
   "nbconvert_exporter": "python",
   "pygments_lexer": "ipython3",
   "version": "3.11.11"
  }
 },
 "nbformat": 4,
 "nbformat_minor": 2
}
